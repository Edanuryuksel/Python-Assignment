{
  "nbformat": 4,
  "nbformat_minor": 0,
  "metadata": {
    "colab": {
      "name": "Python_assingment-10/01",
      "provenance": [],
      "authorship_tag": "ABX9TyMHNXaf5rX1S+LbQX4VBuhh",
      "include_colab_link": true
    },
    "kernelspec": {
      "name": "python3",
      "display_name": "Python 3"
    },
    "language_info": {
      "name": "python"
    }
  },
  "cells": [
    {
      "cell_type": "markdown",
      "metadata": {
        "id": "view-in-github",
        "colab_type": "text"
      },
      "source": [
        "<a href=\"https://colab.research.google.com/github/Edanuryuksel/Python-Assignment/blob/main/Python_assingment_10_01.ipynb\" target=\"_parent\"><img src=\"https://colab.research.google.com/assets/colab-badge.svg\" alt=\"Open In Colab\"/></a>"
      ]
    },
    {
      "cell_type": "code",
      "metadata": {
        "id": "wsvxfpK13Imi"
      },
      "source": [
        "myname = \"Joseph\"\n",
        "first_name = input(\"Please input your name to see the password: \")\n",
        "\n",
        "if first_name.title() == myname :\n",
        "  print(f\"Hello Joseph! The password is: W@12\")\n",
        "else :\n",
        "  print(f\"Hello {first_name} ! See you later.\")\n",
        "  "
      ],
      "execution_count": null,
      "outputs": []
    },
    {
      "cell_type": "code",
      "metadata": {
        "id": "4GkOi97NQS1r"
      },
      "source": [
        ""
      ],
      "execution_count": null,
      "outputs": []
    },
    {
      "cell_type": "code",
      "metadata": {
        "id": "CWh8LIRGenVX"
      },
      "source": [
        ""
      ],
      "execution_count": null,
      "outputs": []
    }
  ]
}